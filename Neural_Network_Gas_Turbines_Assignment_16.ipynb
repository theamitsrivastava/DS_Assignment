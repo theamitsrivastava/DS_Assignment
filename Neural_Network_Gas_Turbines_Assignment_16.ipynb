{
 "cells": [
  {
   "cell_type": "code",
   "execution_count": 1,
   "metadata": {
    "ExecuteTime": {
     "end_time": "2021-08-13T08:31:11.869669Z",
     "start_time": "2021-08-13T08:30:52.868105Z"
    }
   },
   "outputs": [],
   "source": [
    "from keras.models import Sequential\n",
    "from keras.layers import Dense\n",
    "import numpy as np\n",
    "import pandas as pd\n",
    "import matplotlib.pyplot as plt"
   ]
  },
  {
   "cell_type": "code",
   "execution_count": 14,
   "metadata": {
    "ExecuteTime": {
     "end_time": "2021-08-13T08:53:51.661599Z",
     "start_time": "2021-08-13T08:53:51.566984Z"
    }
   },
   "outputs": [
    {
     "data": {
      "text/html": [
       "<div>\n",
       "<style scoped>\n",
       "    .dataframe tbody tr th:only-of-type {\n",
       "        vertical-align: middle;\n",
       "    }\n",
       "\n",
       "    .dataframe tbody tr th {\n",
       "        vertical-align: top;\n",
       "    }\n",
       "\n",
       "    .dataframe thead th {\n",
       "        text-align: right;\n",
       "    }\n",
       "</style>\n",
       "<table border=\"1\" class=\"dataframe\">\n",
       "  <thead>\n",
       "    <tr style=\"text-align: right;\">\n",
       "      <th></th>\n",
       "      <th>AT</th>\n",
       "      <th>AP</th>\n",
       "      <th>AH</th>\n",
       "      <th>AFDP</th>\n",
       "      <th>GTEP</th>\n",
       "      <th>TIT</th>\n",
       "      <th>TAT</th>\n",
       "      <th>CDP</th>\n",
       "      <th>CO</th>\n",
       "      <th>NOX</th>\n",
       "      <th>TEY</th>\n",
       "    </tr>\n",
       "  </thead>\n",
       "  <tbody>\n",
       "    <tr>\n",
       "      <th>0</th>\n",
       "      <td>6.8594</td>\n",
       "      <td>1007.9</td>\n",
       "      <td>96.799</td>\n",
       "      <td>3.5000</td>\n",
       "      <td>19.663</td>\n",
       "      <td>1059.2</td>\n",
       "      <td>550.00</td>\n",
       "      <td>10.605</td>\n",
       "      <td>3.1547</td>\n",
       "      <td>82.722</td>\n",
       "      <td>114.70</td>\n",
       "    </tr>\n",
       "    <tr>\n",
       "      <th>1</th>\n",
       "      <td>6.7850</td>\n",
       "      <td>1008.4</td>\n",
       "      <td>97.118</td>\n",
       "      <td>3.4998</td>\n",
       "      <td>19.728</td>\n",
       "      <td>1059.3</td>\n",
       "      <td>550.00</td>\n",
       "      <td>10.598</td>\n",
       "      <td>3.2363</td>\n",
       "      <td>82.776</td>\n",
       "      <td>114.72</td>\n",
       "    </tr>\n",
       "    <tr>\n",
       "      <th>2</th>\n",
       "      <td>6.8977</td>\n",
       "      <td>1008.8</td>\n",
       "      <td>95.939</td>\n",
       "      <td>3.4824</td>\n",
       "      <td>19.779</td>\n",
       "      <td>1059.4</td>\n",
       "      <td>549.87</td>\n",
       "      <td>10.601</td>\n",
       "      <td>3.2012</td>\n",
       "      <td>82.468</td>\n",
       "      <td>114.71</td>\n",
       "    </tr>\n",
       "    <tr>\n",
       "      <th>3</th>\n",
       "      <td>7.0569</td>\n",
       "      <td>1009.2</td>\n",
       "      <td>95.249</td>\n",
       "      <td>3.4805</td>\n",
       "      <td>19.792</td>\n",
       "      <td>1059.6</td>\n",
       "      <td>549.99</td>\n",
       "      <td>10.606</td>\n",
       "      <td>3.1923</td>\n",
       "      <td>82.670</td>\n",
       "      <td>114.72</td>\n",
       "    </tr>\n",
       "    <tr>\n",
       "      <th>4</th>\n",
       "      <td>7.3978</td>\n",
       "      <td>1009.7</td>\n",
       "      <td>95.150</td>\n",
       "      <td>3.4976</td>\n",
       "      <td>19.765</td>\n",
       "      <td>1059.7</td>\n",
       "      <td>549.98</td>\n",
       "      <td>10.612</td>\n",
       "      <td>3.2484</td>\n",
       "      <td>82.311</td>\n",
       "      <td>114.72</td>\n",
       "    </tr>\n",
       "  </tbody>\n",
       "</table>\n",
       "</div>"
      ],
      "text/plain": [
       "       AT      AP      AH    AFDP    GTEP     TIT     TAT     CDP      CO  \\\n",
       "0  6.8594  1007.9  96.799  3.5000  19.663  1059.2  550.00  10.605  3.1547   \n",
       "1  6.7850  1008.4  97.118  3.4998  19.728  1059.3  550.00  10.598  3.2363   \n",
       "2  6.8977  1008.8  95.939  3.4824  19.779  1059.4  549.87  10.601  3.2012   \n",
       "3  7.0569  1009.2  95.249  3.4805  19.792  1059.6  549.99  10.606  3.1923   \n",
       "4  7.3978  1009.7  95.150  3.4976  19.765  1059.7  549.98  10.612  3.2484   \n",
       "\n",
       "      NOX     TEY  \n",
       "0  82.722  114.70  \n",
       "1  82.776  114.72  \n",
       "2  82.468  114.71  \n",
       "3  82.670  114.72  \n",
       "4  82.311  114.72  "
      ]
     },
     "execution_count": 14,
     "metadata": {},
     "output_type": "execute_result"
    }
   ],
   "source": [
    "data = pd.read_csv(\"C:/ExcelR/Data Science Assignments/16-Neural Network/gas_turbines.csv\")\n",
    "data.head()"
   ]
  },
  {
   "cell_type": "code",
   "execution_count": 15,
   "metadata": {
    "ExecuteTime": {
     "end_time": "2021-08-13T08:53:53.097900Z",
     "start_time": "2021-08-13T08:53:53.077314Z"
    }
   },
   "outputs": [
    {
     "name": "stdout",
     "output_type": "stream",
     "text": [
      "<class 'pandas.core.frame.DataFrame'>\n",
      "RangeIndex: 15039 entries, 0 to 15038\n",
      "Data columns (total 11 columns):\n",
      " #   Column  Non-Null Count  Dtype  \n",
      "---  ------  --------------  -----  \n",
      " 0   AT      15039 non-null  float64\n",
      " 1   AP      15039 non-null  float64\n",
      " 2   AH      15039 non-null  float64\n",
      " 3   AFDP    15039 non-null  float64\n",
      " 4   GTEP    15039 non-null  float64\n",
      " 5   TIT     15039 non-null  float64\n",
      " 6   TAT     15039 non-null  float64\n",
      " 7   CDP     15039 non-null  float64\n",
      " 8   CO      15039 non-null  float64\n",
      " 9   NOX     15039 non-null  float64\n",
      " 10  TEY     15039 non-null  float64\n",
      "dtypes: float64(11)\n",
      "memory usage: 1.3 MB\n"
     ]
    }
   ],
   "source": [
    "data.info()"
   ]
  },
  {
   "cell_type": "code",
   "execution_count": 22,
   "metadata": {
    "ExecuteTime": {
     "end_time": "2021-08-13T09:10:38.115074Z",
     "start_time": "2021-08-13T09:10:37.233365Z"
    }
   },
   "outputs": [
    {
     "data": {
      "text/plain": [
       "array([[-1.4397781 , -0.82664395,  1.28143632, ..., -1.35733078,\n",
       "         0.53201195,  1.3878449 ],\n",
       "       [-1.44960109, -0.74864748,  1.30456402, ..., -1.36367619,\n",
       "         0.56873344,  1.39300237],\n",
       "       [-1.43472138, -0.68625031,  1.21908576, ..., -1.36095673,\n",
       "         0.5529378 ,  1.36358566],\n",
       "       ...,\n",
       "       [-1.38626659, -1.07623263,  1.47697056, ..., -1.46792219,\n",
       "         2.69592467,  2.17006209],\n",
       "       [-1.42042259, -0.99823616,  1.44159024, ..., -1.42259784,\n",
       "         1.9246834 ,  2.391165  ],\n",
       "       [-1.43073409, -0.93583899,  1.33465179, ..., -1.37727349,\n",
       "         1.35415028,  2.32153907]])"
      ]
     },
     "execution_count": 22,
     "metadata": {},
     "output_type": "execute_result"
    }
   ],
   "source": [
    "data1= data.iloc[:,0:10]\n",
    "\n",
    "from sklearn.preprocessing import StandardScaler\n",
    "sc = StandardScaler()\n",
    "\n",
    "sc.fit(data1)\n",
    "df_norm = sc.transform(data1)\n",
    "df_norm   "
   ]
  },
  {
   "cell_type": "code",
   "execution_count": 23,
   "metadata": {
    "ExecuteTime": {
     "end_time": "2021-08-13T09:10:44.083481Z",
     "start_time": "2021-08-13T09:10:44.061844Z"
    }
   },
   "outputs": [
    {
     "data": {
      "text/plain": [
       "array([[114.7 ],\n",
       "       [114.72],\n",
       "       [114.71],\n",
       "       ...,\n",
       "       [110.19],\n",
       "       [110.74],\n",
       "       [111.58]])"
      ]
     },
     "execution_count": 23,
     "metadata": {},
     "output_type": "execute_result"
    }
   ],
   "source": [
    "# split into input (X) and output (Y) variables\n",
    "array = data.values\n",
    "X = array[:,0:10]\n",
    "Y = array[:,10]\n",
    "\n",
    "X.reshape(-1,1)\n",
    "Y.reshape(-1,1)"
   ]
  },
  {
   "cell_type": "markdown",
   "metadata": {},
   "source": [
    "# Iteration 1"
   ]
  },
  {
   "cell_type": "code",
   "execution_count": 24,
   "metadata": {
    "ExecuteTime": {
     "end_time": "2021-08-13T09:11:53.442223Z",
     "start_time": "2021-08-13T09:11:09.841049Z"
    }
   },
   "outputs": [
    {
     "name": "stdout",
     "output_type": "stream",
     "text": [
      "Epoch 1/10\n",
      "1053/1053 [==============================] - 4s 4ms/step - loss: -16703509.0000 - accuracy: 0.0000e+00 - val_loss: -63900496.0000 - val_accuracy: 0.0000e+00\n",
      "Epoch 2/10\n",
      "1053/1053 [==============================] - 4s 4ms/step - loss: -222402880.0000 - accuracy: 0.0000e+00 - val_loss: -431496736.0000 - val_accuracy: 0.0000e+00\n",
      "Epoch 3/10\n",
      "1053/1053 [==============================] - 5s 4ms/step - loss: -818294976.0000 - accuracy: 0.0000e+00 - val_loss: -1230986752.0000 - val_accuracy: 0.0000e+00\n",
      "Epoch 4/10\n",
      "1053/1053 [==============================] - 5s 4ms/step - loss: -1896994560.0000 - accuracy: 0.0000e+00 - val_loss: -2527766784.0000 - val_accuracy: 0.0000e+00\n",
      "Epoch 5/10\n",
      "1053/1053 [==============================] - 4s 4ms/step - loss: -3517716992.0000 - accuracy: 0.0000e+00 - val_loss: -4375731712.0000 - val_accuracy: 0.0000e+00\n",
      "Epoch 6/10\n",
      "1053/1053 [==============================] - 4s 4ms/step - loss: -5736136704.0000 - accuracy: 0.0000e+00 - val_loss: -6829941248.0000 - val_accuracy: 0.0000e+00\n",
      "Epoch 7/10\n",
      "1053/1053 [==============================] - 4s 4ms/step - loss: -8610071552.0000 - accuracy: 0.0000e+00 - val_loss: -9946128384.0000 - val_accuracy: 0.0000e+00\n",
      "Epoch 8/10\n",
      "1053/1053 [==============================] - 4s 4ms/step - loss: -12199528448.0000 - accuracy: 0.0000e+00 - val_loss: -13783867392.0000 - val_accuracy: 0.0000e+00\n",
      "Epoch 9/10\n",
      "1053/1053 [==============================] - 4s 4ms/step - loss: -16564105216.0000 - accuracy: 0.0000e+00 - val_loss: -18399875072.0000 - val_accuracy: 0.0000e+00\n",
      "Epoch 10/10\n",
      "1053/1053 [==============================] - 4s 4ms/step - loss: -21762525184.0000 - accuracy: 0.0000e+00 - val_loss: -23851640832.0000 - val_accuracy: 0.0000e+00\n"
     ]
    },
    {
     "data": {
      "text/plain": [
       "<tensorflow.python.keras.callbacks.History at 0x26edad15108>"
      ]
     },
     "execution_count": 24,
     "metadata": {},
     "output_type": "execute_result"
    }
   ],
   "source": [
    "# create model\n",
    "model = Sequential()\n",
    "model.add(Dense(8, input_dim=10, activation='relu'))\n",
    "model.add(Dense(6,activation='relu'))\n",
    "model.add(Dense(1,activation='sigmoid'))\n",
    "\n",
    "# Compile model\n",
    "model.compile(loss='binary_crossentropy', optimizer='adam', metrics=['accuracy'])\n",
    "\n",
    "# Fit the model\n",
    "model.fit(X, Y, validation_split=0.3, epochs=10, batch_size=10)"
   ]
  },
  {
   "cell_type": "code",
   "execution_count": 25,
   "metadata": {
    "ExecuteTime": {
     "end_time": "2021-08-13T09:29:53.230323Z",
     "start_time": "2021-08-13T09:29:52.236272Z"
    }
   },
   "outputs": [
    {
     "name": "stdout",
     "output_type": "stream",
     "text": [
      "470/470 [==============================] - 1s 2ms/step - loss: -24416448512.0000 - accuracy: 0.0000e+00\n",
      "accuracy: 0.00%\n"
     ]
    }
   ],
   "source": [
    "# evaluate the model\n",
    "scores = model.evaluate(X, Y)\n",
    "print(\"%s: %.2f%%\" % (model.metrics_names[1], scores[1]*100))"
   ]
  },
  {
   "cell_type": "markdown",
   "metadata": {},
   "source": [
    "# Iteration 2"
   ]
  },
  {
   "cell_type": "code",
   "execution_count": 26,
   "metadata": {
    "ExecuteTime": {
     "end_time": "2021-08-13T09:32:05.208169Z",
     "start_time": "2021-08-13T09:31:02.994681Z"
    }
   },
   "outputs": [
    {
     "name": "stdout",
     "output_type": "stream",
     "text": [
      "Epoch 1/20\n",
      "702/702 [==============================] - 3s 4ms/step - loss: 2088.8860 - accuracy: 0.0000e+00 - val_loss: 2025.4359 - val_accuracy: 0.0000e+00\n",
      "Epoch 2/20\n",
      "702/702 [==============================] - 3s 4ms/step - loss: 2088.8862 - accuracy: 0.0000e+00 - val_loss: 2025.4359 - val_accuracy: 0.0000e+00\n",
      "Epoch 3/20\n",
      "702/702 [==============================] - 4s 5ms/step - loss: 2088.8879 - accuracy: 0.0000e+00 - val_loss: 2025.4359 - val_accuracy: 0.0000e+00\n",
      "Epoch 4/20\n",
      "702/702 [==============================] - 3s 5ms/step - loss: 2088.8877 - accuracy: 0.0000e+00 - val_loss: 2025.4359 - val_accuracy: 0.0000e+00\n",
      "Epoch 5/20\n",
      "702/702 [==============================] - 3s 4ms/step - loss: 2088.8860 - accuracy: 0.0000e+00 - val_loss: 2025.4359 - val_accuracy: 0.0000e+00\n",
      "Epoch 6/20\n",
      "702/702 [==============================] - 3s 4ms/step - loss: 2088.8865 - accuracy: 0.0000e+00 - val_loss: 2025.4359 - val_accuracy: 0.0000e+00\n",
      "Epoch 7/20\n",
      "702/702 [==============================] - 3s 4ms/step - loss: 2088.8865 - accuracy: 0.0000e+00 - val_loss: 2025.4359 - val_accuracy: 0.0000e+00\n",
      "Epoch 8/20\n",
      "702/702 [==============================] - 2s 3ms/step - loss: 2088.8877 - accuracy: 0.0000e+00 - val_loss: 2025.4359 - val_accuracy: 0.0000e+00\n",
      "Epoch 9/20\n",
      "702/702 [==============================] - 3s 4ms/step - loss: 2088.8857 - accuracy: 0.0000e+00 - val_loss: 2025.4359 - val_accuracy: 0.0000e+00\n",
      "Epoch 10/20\n",
      "702/702 [==============================] - 3s 4ms/step - loss: 2088.8865 - accuracy: 0.0000e+00 - val_loss: 2025.4359 - val_accuracy: 0.0000e+00\n",
      "Epoch 11/20\n",
      "702/702 [==============================] - 3s 5ms/step - loss: 2088.8857 - accuracy: 0.0000e+00 - val_loss: 2025.4359 - val_accuracy: 0.0000e+00\n",
      "Epoch 12/20\n",
      "702/702 [==============================] - 3s 4ms/step - loss: 2088.8862 - accuracy: 0.0000e+00 - val_loss: 2025.4359 - val_accuracy: 0.0000e+00\n",
      "Epoch 13/20\n",
      "702/702 [==============================] - 3s 5ms/step - loss: 2088.8862 - accuracy: 0.0000e+00 - val_loss: 2025.4359 - val_accuracy: 0.0000e+00\n",
      "Epoch 14/20\n",
      "702/702 [==============================] - 3s 5ms/step - loss: 2088.8867 - accuracy: 0.0000e+00 - val_loss: 2025.4359 - val_accuracy: 0.0000e+00\n",
      "Epoch 15/20\n",
      "702/702 [==============================] - 3s 4ms/step - loss: 2088.8860 - accuracy: 0.0000e+00 - val_loss: 2025.4359 - val_accuracy: 0.0000e+00\n",
      "Epoch 16/20\n",
      "702/702 [==============================] - 3s 4ms/step - loss: 2088.8879 - accuracy: 0.0000e+00 - val_loss: 2025.4359 - val_accuracy: 0.0000e+00\n",
      "Epoch 17/20\n",
      "702/702 [==============================] - 3s 4ms/step - loss: 2088.8870 - accuracy: 0.0000e+00 - val_loss: 2025.4359 - val_accuracy: 0.0000e+00\n",
      "Epoch 18/20\n",
      "702/702 [==============================] - 2s 4ms/step - loss: 2088.8872 - accuracy: 0.0000e+00 - val_loss: 2025.4359 - val_accuracy: 0.0000e+00\n",
      "Epoch 19/20\n",
      "702/702 [==============================] - 3s 4ms/step - loss: 2088.8862 - accuracy: 0.0000e+00 - val_loss: 2025.4359 - val_accuracy: 0.0000e+00\n",
      "Epoch 20/20\n",
      "702/702 [==============================] - 3s 5ms/step - loss: 2088.8872 - accuracy: 0.0000e+00 - val_loss: 2025.4359 - val_accuracy: 0.0000e+00\n"
     ]
    },
    {
     "data": {
      "text/plain": [
       "<tensorflow.python.keras.callbacks.History at 0x26edc26d848>"
      ]
     },
     "execution_count": 26,
     "metadata": {},
     "output_type": "execute_result"
    }
   ],
   "source": [
    "# create model\n",
    "model = Sequential()\n",
    "model.add(Dense(10, input_dim=10, activation='sigmoid'))\n",
    "model.add(Dense(8,activation='sigmoid'))\n",
    "model.add(Dense(1,activation='relu'))\n",
    "\n",
    "# Compile model\n",
    "model.compile(loss='binary_crossentropy', optimizer='adam', metrics=['accuracy'])\n",
    "\n",
    "# Fit the model\n",
    "model.fit(X, Y, validation_split=0.3, epochs=20, batch_size=15)"
   ]
  },
  {
   "cell_type": "code",
   "execution_count": 27,
   "metadata": {
    "ExecuteTime": {
     "end_time": "2021-08-13T09:33:37.632083Z",
     "start_time": "2021-08-13T09:33:36.536086Z"
    }
   },
   "outputs": [
    {
     "name": "stdout",
     "output_type": "stream",
     "text": [
      "470/470 [==============================] - 1s 2ms/step - loss: 2069.8506 - accuracy: 0.0000e+00\n",
      "accuracy: 0.00%\n"
     ]
    }
   ],
   "source": [
    "# evaluate the model\n",
    "scores = model.evaluate(X, Y)\n",
    "print(\"%s: %.2f%%\" % (model.metrics_names[1], scores[1]*100))"
   ]
  },
  {
   "cell_type": "code",
   "execution_count": null,
   "metadata": {},
   "outputs": [],
   "source": []
  }
 ],
 "metadata": {
  "kernelspec": {
   "display_name": "Python 3",
   "language": "python",
   "name": "python3"
  },
  "language_info": {
   "codemirror_mode": {
    "name": "ipython",
    "version": 3
   },
   "file_extension": ".py",
   "mimetype": "text/x-python",
   "name": "python",
   "nbconvert_exporter": "python",
   "pygments_lexer": "ipython3",
   "version": "3.7.9"
  }
 },
 "nbformat": 4,
 "nbformat_minor": 4
}
